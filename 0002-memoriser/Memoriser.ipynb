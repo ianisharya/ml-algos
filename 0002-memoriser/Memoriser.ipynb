{
 "cells": [
  {
   "cell_type": "code",
   "execution_count": 1,
   "id": "617627bb-1c2c-4194-ae79-f69e29b5c818",
   "metadata": {},
   "outputs": [],
   "source": [
    "# import the required modules\n",
    "import pandas as pd"
   ]
  },
  {
   "cell_type": "code",
   "execution_count": 2,
   "id": "8f3b147b-95c7-41e6-bc50-2f97bab1c047",
   "metadata": {},
   "outputs": [],
   "source": [
    "# load the data \n",
    "data = pd.read_csv(filepath_or_buffer=\"./data/ch2data.csv\", sep=\",\",header = 0)"
   ]
  },
  {
   "cell_type": "code",
   "execution_count": 3,
   "id": "acdd1717-3c6a-4f89-88a6-59edf2e53c60",
   "metadata": {},
   "outputs": [
    {
     "data": {
      "text/html": [
       "<div>\n",
       "<style scoped>\n",
       "    .dataframe tbody tr th:only-of-type {\n",
       "        vertical-align: middle;\n",
       "    }\n",
       "\n",
       "    .dataframe tbody tr th {\n",
       "        vertical-align: top;\n",
       "    }\n",
       "\n",
       "    .dataframe thead th {\n",
       "        text-align: right;\n",
       "    }\n",
       "</style>\n",
       "<table border=\"1\" class=\"dataframe\">\n",
       "  <thead>\n",
       "    <tr style=\"text-align: right;\">\n",
       "      <th></th>\n",
       "      <th>a_cap</th>\n",
       "      <th>b_cap</th>\n",
       "      <th>res_cap</th>\n",
       "    </tr>\n",
       "  </thead>\n",
       "  <tbody>\n",
       "    <tr>\n",
       "      <th>0</th>\n",
       "      <td>0.18</td>\n",
       "      <td>0.34</td>\n",
       "      <td>0</td>\n",
       "    </tr>\n",
       "    <tr>\n",
       "      <th>1</th>\n",
       "      <td>0.19</td>\n",
       "      <td>0.29</td>\n",
       "      <td>1</td>\n",
       "    </tr>\n",
       "    <tr>\n",
       "      <th>2</th>\n",
       "      <td>0.52</td>\n",
       "      <td>0.91</td>\n",
       "      <td>0</td>\n",
       "    </tr>\n",
       "    <tr>\n",
       "      <th>3</th>\n",
       "      <td>0.37</td>\n",
       "      <td>0.50</td>\n",
       "      <td>1</td>\n",
       "    </tr>\n",
       "    <tr>\n",
       "      <th>4</th>\n",
       "      <td>0.80</td>\n",
       "      <td>0.66</td>\n",
       "      <td>0</td>\n",
       "    </tr>\n",
       "  </tbody>\n",
       "</table>\n",
       "</div>"
      ],
      "text/plain": [
       "   a_cap  b_cap  res_cap\n",
       "0   0.18   0.34        0\n",
       "1   0.19   0.29        1\n",
       "2   0.52   0.91        0\n",
       "3   0.37   0.50        1\n",
       "4   0.80   0.66        0"
      ]
     },
     "execution_count": 3,
     "metadata": {},
     "output_type": "execute_result"
    }
   ],
   "source": [
    "data.head()"
   ]
  },
  {
   "cell_type": "code",
   "execution_count": 4,
   "id": "b8d6b180-caef-47df-93c6-ebdc3c212061",
   "metadata": {},
   "outputs": [
    {
     "data": {
      "text/plain": [
       "a_cap      0\n",
       "b_cap      0\n",
       "res_cap    0\n",
       "dtype: int64"
      ]
     },
     "execution_count": 4,
     "metadata": {},
     "output_type": "execute_result"
    }
   ],
   "source": [
    "data.isna().sum() # are there any nulls"
   ]
  },
  {
   "cell_type": "code",
   "execution_count": 5,
   "id": "15c9e9e3-71d8-42ae-aafd-740cc9f351ab",
   "metadata": {},
   "outputs": [
    {
     "name": "stdout",
     "output_type": "stream",
     "text": [
      "<class 'pandas.core.frame.DataFrame'>\n",
      "RangeIndex: 19 entries, 0 to 18\n",
      "Data columns (total 3 columns):\n",
      " #   Column   Non-Null Count  Dtype  \n",
      "---  ------   --------------  -----  \n",
      " 0   a_cap    19 non-null     float64\n",
      " 1   b_cap    19 non-null     float64\n",
      " 2   res_cap  19 non-null     int64  \n",
      "dtypes: float64(2), int64(1)\n",
      "memory usage: 588.0 bytes\n"
     ]
    }
   ],
   "source": [
    "data.info()"
   ]
  },
  {
   "cell_type": "code",
   "execution_count": 6,
   "id": "8285f6e5-6f92-40eb-978f-1ebf92082d8d",
   "metadata": {},
   "outputs": [],
   "source": [
    "# convert the res data type to str as they are labels in this case\n",
    "data.res_cap = data.res_cap.astype(dtype=str, errors = \"raise\")"
   ]
  },
  {
   "cell_type": "code",
   "execution_count": 7,
   "id": "3336b8fc-98ee-42f7-b2d9-cb29e0cb7354",
   "metadata": {},
   "outputs": [
    {
     "data": {
      "text/plain": [
       "str"
      ]
     },
     "execution_count": 7,
     "metadata": {},
     "output_type": "execute_result"
    }
   ],
   "source": [
    "type(data.res_cap[0])"
   ]
  },
  {
   "cell_type": "markdown",
   "id": "4d633219-1b52-4d5b-93f1-29c782f09de0",
   "metadata": {},
   "source": [
    "---\n",
    "### In memoriser, we have to memorise the sample observations and  make a proposition s.t.:\n",
    "* if the sample observation exists => return the corresponding label\n",
    "* else, return the majority vote\n",
    "---"
   ]
  },
  {
   "cell_type": "code",
   "execution_count": 8,
   "id": "0ade2fc9-69de-4c36-8b7d-a84e2043bbae",
   "metadata": {},
   "outputs": [],
   "source": [
    "def getMajVote(labels_series : pd.Series) -> str:\n",
    "    \"\"\"Return the most frequent label in the series. If no-mode or multimodal, then returns the first component or first mode respectively.\"\"\"\n",
    "    mode_label =  labels_series.mode()[0]\n",
    "    return mode_label"
   ]
  },
  {
   "cell_type": "code",
   "execution_count": 9,
   "id": "5a0ca7db-7ed1-4d80-a441-14a9a0f21e03",
   "metadata": {},
   "outputs": [],
   "source": [
    "def getLabelIfObservationExists(data : pd.DataFrame, observation : list)-> (bool, str):\n",
    "    \"\"\"If the observation(X_superscript_i) exist in the data set, then return actual corresponding label, else return \"-1\".\"\"\"\n",
    "    for row_idx in range(0, data.shape[0] - 1) :\n",
    "        match_count = 0\n",
    "        for col_idx in range(0, data.shape[1] - 1) :\n",
    "            if data.iloc[row_idx, col_idx] == observation[col_idx]:\n",
    "                match_count +=1\n",
    "                if match_count == data.shape[1]-1:\n",
    "                    return data.iloc[row_idx, col_idx+1]\n",
    "            else:\n",
    "                continue\n",
    "    return \"-1\""
   ]
  },
  {
   "cell_type": "code",
   "execution_count": 10,
   "id": "0fcc512c-332a-4802-b0fe-e8034477063e",
   "metadata": {},
   "outputs": [],
   "source": [
    "def predict(train_data, observation : list) -> str:\n",
    "    \"\"\"If the sample observation exists then return the corresponding label, else return the majority vote label.\"\"\"\n",
    "    res = getLabelIfObservationExists(train_data, observation)\n",
    "    if res == \"-1\":\n",
    "        return getMajVote(data.res_cap)\n",
    "    else:\n",
    "        return res"
   ]
  },
  {
   "cell_type": "code",
   "execution_count": 11,
   "id": "aef1237b-69e2-41a1-9f23-20022d53b1ad",
   "metadata": {},
   "outputs": [
    {
     "data": {
      "text/html": [
       "<div>\n",
       "<style scoped>\n",
       "    .dataframe tbody tr th:only-of-type {\n",
       "        vertical-align: middle;\n",
       "    }\n",
       "\n",
       "    .dataframe tbody tr th {\n",
       "        vertical-align: top;\n",
       "    }\n",
       "\n",
       "    .dataframe thead th {\n",
       "        text-align: right;\n",
       "    }\n",
       "</style>\n",
       "<table border=\"1\" class=\"dataframe\">\n",
       "  <thead>\n",
       "    <tr style=\"text-align: right;\">\n",
       "      <th></th>\n",
       "      <th>a_cap</th>\n",
       "      <th>b_cap</th>\n",
       "      <th>res_cap</th>\n",
       "    </tr>\n",
       "  </thead>\n",
       "  <tbody>\n",
       "    <tr>\n",
       "      <th>0</th>\n",
       "      <td>0.18</td>\n",
       "      <td>0.34</td>\n",
       "      <td>0</td>\n",
       "    </tr>\n",
       "    <tr>\n",
       "      <th>1</th>\n",
       "      <td>0.19</td>\n",
       "      <td>0.29</td>\n",
       "      <td>1</td>\n",
       "    </tr>\n",
       "    <tr>\n",
       "      <th>2</th>\n",
       "      <td>0.52</td>\n",
       "      <td>0.91</td>\n",
       "      <td>0</td>\n",
       "    </tr>\n",
       "    <tr>\n",
       "      <th>3</th>\n",
       "      <td>0.37</td>\n",
       "      <td>0.50</td>\n",
       "      <td>1</td>\n",
       "    </tr>\n",
       "    <tr>\n",
       "      <th>4</th>\n",
       "      <td>0.80</td>\n",
       "      <td>0.66</td>\n",
       "      <td>0</td>\n",
       "    </tr>\n",
       "    <tr>\n",
       "      <th>5</th>\n",
       "      <td>0.26</td>\n",
       "      <td>0.42</td>\n",
       "      <td>1</td>\n",
       "    </tr>\n",
       "    <tr>\n",
       "      <th>6</th>\n",
       "      <td>0.95</td>\n",
       "      <td>0.62</td>\n",
       "      <td>0</td>\n",
       "    </tr>\n",
       "    <tr>\n",
       "      <th>7</th>\n",
       "      <td>0.69</td>\n",
       "      <td>0.84</td>\n",
       "      <td>1</td>\n",
       "    </tr>\n",
       "    <tr>\n",
       "      <th>8</th>\n",
       "      <td>0.37</td>\n",
       "      <td>0.18</td>\n",
       "      <td>0</td>\n",
       "    </tr>\n",
       "    <tr>\n",
       "      <th>9</th>\n",
       "      <td>0.11</td>\n",
       "      <td>0.78</td>\n",
       "      <td>0</td>\n",
       "    </tr>\n",
       "  </tbody>\n",
       "</table>\n",
       "</div>"
      ],
      "text/plain": [
       "   a_cap  b_cap res_cap\n",
       "0   0.18   0.34       0\n",
       "1   0.19   0.29       1\n",
       "2   0.52   0.91       0\n",
       "3   0.37   0.50       1\n",
       "4   0.80   0.66       0\n",
       "5   0.26   0.42       1\n",
       "6   0.95   0.62       0\n",
       "7   0.69   0.84       1\n",
       "8   0.37   0.18       0\n",
       "9   0.11   0.78       0"
      ]
     },
     "execution_count": 11,
     "metadata": {},
     "output_type": "execute_result"
    }
   ],
   "source": [
    "data.head(10)"
   ]
  },
  {
   "cell_type": "code",
   "execution_count": 12,
   "id": "8a514918-d635-4103-b9d7-992c81bb8068",
   "metadata": {},
   "outputs": [
    {
     "data": {
      "text/plain": [
       "'0'"
      ]
     },
     "execution_count": 12,
     "metadata": {},
     "output_type": "execute_result"
    }
   ],
   "source": [
    "predict(data.copy(), [0.80, 0.66])"
   ]
  },
  {
   "cell_type": "code",
   "execution_count": 13,
   "id": "e883bcb1-94e1-4042-9d72-b2d26a64d131",
   "metadata": {},
   "outputs": [
    {
     "data": {
      "text/plain": [
       "'1'"
      ]
     },
     "execution_count": 13,
     "metadata": {},
     "output_type": "execute_result"
    }
   ],
   "source": [
    "predict(data.copy(), [0.69, 0.84])"
   ]
  },
  {
   "cell_type": "code",
   "execution_count": null,
   "id": "d276ac63-1f52-47f4-8f62-42b6a0d1b02d",
   "metadata": {},
   "outputs": [],
   "source": []
  }
 ],
 "metadata": {
  "kernelspec": {
   "display_name": "Python 3 (ipykernel)",
   "language": "python",
   "name": "python3"
  },
  "language_info": {
   "codemirror_mode": {
    "name": "ipython",
    "version": 3
   },
   "file_extension": ".py",
   "mimetype": "text/x-python",
   "name": "python",
   "nbconvert_exporter": "python",
   "pygments_lexer": "ipython3",
   "version": "3.13.0rc2"
  }
 },
 "nbformat": 4,
 "nbformat_minor": 5
}
