{
 "cells": [
  {
   "cell_type": "code",
   "execution_count": 1,
   "id": "f74d9366-28f0-4b36-8a1c-8b75c6e41776",
   "metadata": {},
   "outputs": [],
   "source": [
    "# import the required modules\n",
    "import pandas as pd"
   ]
  },
  {
   "cell_type": "code",
   "execution_count": 2,
   "id": "3b81d291-9c61-409e-bf53-23ab64c9126b",
   "metadata": {},
   "outputs": [],
   "source": [
    "# load the data \n",
    "data = pd.read_csv(filepath_or_buffer=\"./data/ch2data.csv\", sep=\",\",header = 0)"
   ]
  },
  {
   "cell_type": "code",
   "execution_count": 3,
   "id": "5cfe6d7b-c3ef-4e05-9384-85d1776f3933",
   "metadata": {},
   "outputs": [
    {
     "data": {
      "text/plain": [
       "a_cap      0\n",
       "b_cap      0\n",
       "res_cap    0\n",
       "dtype: int64"
      ]
     },
     "execution_count": 3,
     "metadata": {},
     "output_type": "execute_result"
    }
   ],
   "source": [
    "data.isna().sum() # are there any nulls"
   ]
  },
  {
   "cell_type": "code",
   "execution_count": 4,
   "id": "e5650a48-f9f6-4b8b-b55a-93b2213e37e2",
   "metadata": {},
   "outputs": [
    {
     "name": "stdout",
     "output_type": "stream",
     "text": [
      "<class 'pandas.core.frame.DataFrame'>\n",
      "RangeIndex: 19 entries, 0 to 18\n",
      "Data columns (total 3 columns):\n",
      " #   Column   Non-Null Count  Dtype  \n",
      "---  ------   --------------  -----  \n",
      " 0   a_cap    19 non-null     float64\n",
      " 1   b_cap    19 non-null     float64\n",
      " 2   res_cap  19 non-null     int64  \n",
      "dtypes: float64(2), int64(1)\n",
      "memory usage: 588.0 bytes\n"
     ]
    }
   ],
   "source": [
    "data.info()"
   ]
  },
  {
   "cell_type": "code",
   "execution_count": 5,
   "id": "11d445df-2310-4c3e-8946-37cc2d00111e",
   "metadata": {},
   "outputs": [],
   "source": [
    "# convert the res data type to str as they are labels in this case\n",
    "data.res_cap = data.res_cap.astype(dtype=str, errors = \"raise\")"
   ]
  },
  {
   "cell_type": "code",
   "execution_count": 6,
   "id": "9a4808c8-63ef-498b-99aa-fdfebf2ddabc",
   "metadata": {},
   "outputs": [
    {
     "data": {
      "text/plain": [
       "str"
      ]
     },
     "execution_count": 6,
     "metadata": {},
     "output_type": "execute_result"
    }
   ],
   "source": [
    "type(data.res_cap[0])"
   ]
  },
  {
   "cell_type": "markdown",
   "id": "d674fafc-7d8d-45f9-b711-d4492478be8c",
   "metadata": {},
   "source": [
    "---\n",
    "### In maj vote classifier, we only care about the resultant vector (label in this case)\n",
    "---"
   ]
  },
  {
   "cell_type": "code",
   "execution_count": 7,
   "id": "0bb173b7-acba-4da9-be9f-bf036604fe50",
   "metadata": {},
   "outputs": [],
   "source": [
    "def getMajVote(labels_series : pd.Series) -> str:\n",
    "    \"\"\"Return the most frequent label in the series. If no-mode or multimodal, then returns the first component or first mode respectively.\"\"\"\n",
    "    mode_label =  labels_series.mode()[0]\n",
    "    return mode_label"
   ]
  },
  {
   "cell_type": "code",
   "execution_count": 8,
   "id": "0f5f0da8-7fc2-4333-b6d2-7ea0ccc92e9c",
   "metadata": {},
   "outputs": [],
   "source": [
    "prediction = getMajVote(data.res_cap)"
   ]
  },
  {
   "cell_type": "code",
   "execution_count": 9,
   "id": "148f041f-0084-4209-bbb9-a940b797dd7b",
   "metadata": {},
   "outputs": [],
   "source": [
    "num_misclassifiers = int(len(data.res_cap[data.res_cap != prediction]))"
   ]
  },
  {
   "cell_type": "code",
   "execution_count": 10,
   "id": "42468668-3e57-4857-a0f8-66b64688888a",
   "metadata": {},
   "outputs": [],
   "source": [
    "error_rate = (num_misclassifiers*1.0)/len(data.res_cap)"
   ]
  },
  {
   "cell_type": "code",
   "execution_count": 11,
   "id": "76043c06-fc0a-4f29-a23d-d8e7012ede5c",
   "metadata": {},
   "outputs": [],
   "source": [
    "accuracy = 1 - error_rate"
   ]
  },
  {
   "cell_type": "code",
   "execution_count": 12,
   "id": "f60905d5-6590-40ef-aaa9-4cdfebe55206",
   "metadata": {},
   "outputs": [
    {
     "name": "stdout",
     "output_type": "stream",
     "text": [
      "Accuracy is: 52.632%\n"
     ]
    }
   ],
   "source": [
    "print(\"Accuracy is: \" + str(round(accuracy*100, 3)) + \"%\")"
   ]
  },
  {
   "cell_type": "code",
   "execution_count": null,
   "id": "e076d491-ffd9-4e99-8609-6da0af98dc6d",
   "metadata": {},
   "outputs": [],
   "source": []
  }
 ],
 "metadata": {
  "kernelspec": {
   "display_name": "Python 3",
   "language": "python",
   "name": "python3"
  },
  "language_info": {
   "codemirror_mode": {
    "name": "ipython",
    "version": 3
   },
   "file_extension": ".py",
   "mimetype": "text/x-python",
   "name": "python",
   "nbconvert_exporter": "python",
   "pygments_lexer": "ipython3",
   "version": "3.13.0"
  }
 },
 "nbformat": 4,
 "nbformat_minor": 5
}
